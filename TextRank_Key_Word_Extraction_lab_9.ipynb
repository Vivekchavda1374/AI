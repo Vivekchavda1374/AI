{
  "nbformat": 4,
  "nbformat_minor": 0,
  "metadata": {
    "colab": {
      "provenance": [],
      "authorship_tag": "ABX9TyP1fFUAxkdDBISTvq0oasmj",
      "include_colab_link": true
    },
    "kernelspec": {
      "name": "python3",
      "display_name": "Python 3"
    },
    "language_info": {
      "name": "python"
    }
  },
  "cells": [
    {
      "cell_type": "markdown",
      "metadata": {
        "id": "view-in-github",
        "colab_type": "text"
      },
      "source": [
        "<a href=\"https://colab.research.google.com/github/Vivekchavda1374/AI/blob/main/TextRank_Key_Word_Extraction_lab_9.ipynb\" target=\"_parent\"><img src=\"https://colab.research.google.com/assets/colab-badge.svg\" alt=\"Open In Colab\"/></a>"
      ]
    },
    {
      "cell_type": "code",
      "source": [
        "import nltk\n",
        "import networkx as nx\n",
        "from collections import Counter\n",
        "from itertools import combinations\n",
        "from nltk.corpus import stopwords\n",
        "from nltk.tokenize import word_tokenize"
      ],
      "metadata": {
        "id": "zryiRHsMzSPt"
      },
      "execution_count": 1,
      "outputs": []
    },
    {
      "cell_type": "code",
      "source": [
        "nltk.download('punkt')\n",
        "nltk.download('stopwords')"
      ],
      "metadata": {
        "colab": {
          "base_uri": "https://localhost:8080/"
        },
        "id": "sxNX_kSp1XWM",
        "outputId": "507cba65-e495-481a-9e60-705253cee851"
      },
      "execution_count": 2,
      "outputs": [
        {
          "output_type": "stream",
          "name": "stderr",
          "text": [
            "[nltk_data] Downloading package punkt to /root/nltk_data...\n",
            "[nltk_data]   Unzipping tokenizers/punkt.zip.\n",
            "[nltk_data] Downloading package stopwords to /root/nltk_data...\n",
            "[nltk_data]   Unzipping corpora/stopwords.zip.\n"
          ]
        },
        {
          "output_type": "execute_result",
          "data": {
            "text/plain": [
              "True"
            ]
          },
          "metadata": {},
          "execution_count": 2
        }
      ]
    },
    {
      "cell_type": "code",
      "source": [
        "def extract_keywords_textrank(text, top_n=10):\n",
        "    stop_words = set(stopwords.words('english'))\n",
        "    words = [word.lower() for word in word_tokenize(text)\n",
        "                          if word.isalnum() and word.lower() not in stop_words]\n",
        "\n",
        "    # Create a word co-occurrence graph\n",
        "    graph = nx.Graph()\n",
        "    graph.add_nodes_from(words)\n",
        "\n",
        "    for w1, w2 in combinations(words, 2):\n",
        "        if w1 != w2:\n",
        "            graph.add_edge(w1, w2)\n",
        "\n",
        "    # Apply PageRank algorithm\n",
        "    scores = nx.pagerank(graph)\n",
        "\n",
        "    # Get top-ranked keywords\n",
        "    ranked_words = sorted(scores.items(), key=lambda x: x[1], reverse=True)\n",
        "    keywords = [word for word, score in ranked_words[:top_n]]\n",
        "\n",
        "    return keywords"
      ],
      "metadata": {
        "id": "068KJDE31dij"
      },
      "execution_count": 3,
      "outputs": []
    },
    {
      "cell_type": "code",
      "source": [
        "nltk.download('punkt_tab')"
      ],
      "metadata": {
        "colab": {
          "base_uri": "https://localhost:8080/"
        },
        "id": "rXwd4DEv1jUQ",
        "outputId": "eceb348c-9dc6-4145-b02b-c1e970b6f6a8"
      },
      "execution_count": 4,
      "outputs": [
        {
          "output_type": "stream",
          "name": "stderr",
          "text": [
            "[nltk_data] Downloading package punkt_tab to /root/nltk_data...\n",
            "[nltk_data]   Unzipping tokenizers/punkt_tab.zip.\n"
          ]
        },
        {
          "output_type": "execute_result",
          "data": {
            "text/plain": [
              "True"
            ]
          },
          "metadata": {},
          "execution_count": 4
        }
      ]
    },
    {
      "cell_type": "code",
      "source": [
        "text = \"TextRank is a graph-based ranking model for text processing. It is widely used for keyword and sentence extraction.\"\n",
        "keywords = extract_keywords_textrank(text, top_n=5)\n",
        "print(\"Extracted Keywords:\", keywords)"
      ],
      "metadata": {
        "colab": {
          "base_uri": "https://localhost:8080/"
        },
        "id": "Oz9U5G5s1mc7",
        "outputId": "72c8fcf1-59f6-4ea8-a265-19c490f6a768"
      },
      "execution_count": 5,
      "outputs": [
        {
          "output_type": "stream",
          "name": "stdout",
          "text": [
            "Extracted Keywords: ['textrank', 'ranking', 'model', 'text', 'processing']\n"
          ]
        }
      ]
    }
  ]
}